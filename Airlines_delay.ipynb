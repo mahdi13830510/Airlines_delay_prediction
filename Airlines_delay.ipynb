{
 "cells": [
  {
   "cell_type": "markdown",
   "id": "e872da98-cd43-4766-9412-d812aa1a4ee6",
   "metadata": {},
   "source": [
    "### About Dataset\n",
    "Airlines Dataset Inspired in the regression dataset from Elena Ikonomovska. The task is to predict whether a given flight will be delayed, given the information of the scheduled departure.\n",
    "You can find dataset at: https://www.kaggle.com/datasets/ulrikthygepedersen/airlines-delay"
   ]
  },
  {
   "cell_type": "code",
   "execution_count": 2,
   "metadata": {},
   "outputs": [],
   "source": [
    "import numpy as np\n",
    "import pandas as pd \n",
    "import matplotlib.pyplot as plt\n",
    "import seaborn as sns\n",
    "\n",
    "sns.set()\n",
    "\n",
    "from sklearn.model_selection import train_test_split\n",
    "from sklearn.linear_model import LinearRegression, LogisticRegression\n",
    "from sklearn import metrics\n",
    "from sklearn.metrics import classification_report, confusion_matrix"
   ]
  },
  {
   "cell_type": "code",
   "execution_count": 3,
   "metadata": {},
   "outputs": [],
   "source": [
    "df = pd.read_csv(\"airlines_delay.csv\")"
   ]
  },
  {
   "cell_type": "code",
   "execution_count": 4,
   "metadata": {},
   "outputs": [
    {
     "data": {
      "text/html": [
       "<div>\n",
       "<style scoped>\n",
       "    .dataframe tbody tr th:only-of-type {\n",
       "        vertical-align: middle;\n",
       "    }\n",
       "\n",
       "    .dataframe tbody tr th {\n",
       "        vertical-align: top;\n",
       "    }\n",
       "\n",
       "    .dataframe thead th {\n",
       "        text-align: right;\n",
       "    }\n",
       "</style>\n",
       "<table border=\"1\" class=\"dataframe\">\n",
       "  <thead>\n",
       "    <tr style=\"text-align: right;\">\n",
       "      <th></th>\n",
       "      <th>Flight</th>\n",
       "      <th>Time</th>\n",
       "      <th>Length</th>\n",
       "      <th>Airline</th>\n",
       "      <th>AirportFrom</th>\n",
       "      <th>AirportTo</th>\n",
       "      <th>DayOfWeek</th>\n",
       "      <th>Class</th>\n",
       "    </tr>\n",
       "  </thead>\n",
       "  <tbody>\n",
       "    <tr>\n",
       "      <th>0</th>\n",
       "      <td>2313.0</td>\n",
       "      <td>1296.0</td>\n",
       "      <td>141.0</td>\n",
       "      <td>DL</td>\n",
       "      <td>ATL</td>\n",
       "      <td>HOU</td>\n",
       "      <td>1</td>\n",
       "      <td>0</td>\n",
       "    </tr>\n",
       "    <tr>\n",
       "      <th>1</th>\n",
       "      <td>6948.0</td>\n",
       "      <td>360.0</td>\n",
       "      <td>146.0</td>\n",
       "      <td>OO</td>\n",
       "      <td>COS</td>\n",
       "      <td>ORD</td>\n",
       "      <td>4</td>\n",
       "      <td>0</td>\n",
       "    </tr>\n",
       "    <tr>\n",
       "      <th>2</th>\n",
       "      <td>1247.0</td>\n",
       "      <td>1170.0</td>\n",
       "      <td>143.0</td>\n",
       "      <td>B6</td>\n",
       "      <td>BOS</td>\n",
       "      <td>CLT</td>\n",
       "      <td>3</td>\n",
       "      <td>0</td>\n",
       "    </tr>\n",
       "    <tr>\n",
       "      <th>3</th>\n",
       "      <td>31.0</td>\n",
       "      <td>1410.0</td>\n",
       "      <td>344.0</td>\n",
       "      <td>US</td>\n",
       "      <td>OGG</td>\n",
       "      <td>PHX</td>\n",
       "      <td>6</td>\n",
       "      <td>0</td>\n",
       "    </tr>\n",
       "    <tr>\n",
       "      <th>4</th>\n",
       "      <td>563.0</td>\n",
       "      <td>692.0</td>\n",
       "      <td>98.0</td>\n",
       "      <td>FL</td>\n",
       "      <td>BMI</td>\n",
       "      <td>ATL</td>\n",
       "      <td>4</td>\n",
       "      <td>0</td>\n",
       "    </tr>\n",
       "  </tbody>\n",
       "</table>\n",
       "</div>"
      ],
      "text/plain": [
       "   Flight    Time  Length Airline AirportFrom AirportTo  DayOfWeek  Class\n",
       "0  2313.0  1296.0   141.0      DL         ATL       HOU          1      0\n",
       "1  6948.0   360.0   146.0      OO         COS       ORD          4      0\n",
       "2  1247.0  1170.0   143.0      B6         BOS       CLT          3      0\n",
       "3    31.0  1410.0   344.0      US         OGG       PHX          6      0\n",
       "4   563.0   692.0    98.0      FL         BMI       ATL          4      0"
      ]
     },
     "execution_count": 4,
     "metadata": {},
     "output_type": "execute_result"
    }
   ],
   "source": [
    "df.head()"
   ]
  },
  {
   "cell_type": "markdown",
   "id": "6fed082a",
   "metadata": {},
   "source": [
    "Fix NaN values if any"
   ]
  },
  {
   "cell_type": "code",
   "execution_count": 5,
   "id": "e622249d",
   "metadata": {},
   "outputs": [
    {
     "data": {
      "text/html": [
       "<div>\n",
       "<style scoped>\n",
       "    .dataframe tbody tr th:only-of-type {\n",
       "        vertical-align: middle;\n",
       "    }\n",
       "\n",
       "    .dataframe tbody tr th {\n",
       "        vertical-align: top;\n",
       "    }\n",
       "\n",
       "    .dataframe thead th {\n",
       "        text-align: right;\n",
       "    }\n",
       "</style>\n",
       "<table border=\"1\" class=\"dataframe\">\n",
       "  <thead>\n",
       "    <tr style=\"text-align: right;\">\n",
       "      <th></th>\n",
       "      <th>Flight</th>\n",
       "      <th>Time</th>\n",
       "      <th>Length</th>\n",
       "      <th>Airline</th>\n",
       "      <th>AirportFrom</th>\n",
       "      <th>AirportTo</th>\n",
       "      <th>DayOfWeek</th>\n",
       "      <th>Class</th>\n",
       "    </tr>\n",
       "  </thead>\n",
       "  <tbody>\n",
       "  </tbody>\n",
       "</table>\n",
       "</div>"
      ],
      "text/plain": [
       "Empty DataFrame\n",
       "Columns: [Flight, Time, Length, Airline, AirportFrom, AirportTo, DayOfWeek, Class]\n",
       "Index: []"
      ]
     },
     "execution_count": 5,
     "metadata": {},
     "output_type": "execute_result"
    }
   ],
   "source": [
    "df[df.isna().any(axis=1)]"
   ]
  },
  {
   "cell_type": "code",
   "execution_count": 6,
   "metadata": {},
   "outputs": [],
   "source": [
    "airline_labels = [\"Airline\"]\n",
    "df = pd.get_dummies(df, columns=airline_labels, drop_first=False)"
   ]
  },
  {
   "cell_type": "code",
   "execution_count": 7,
   "metadata": {},
   "outputs": [],
   "source": [
    "airportfrom_labels = [\"AirportFrom\"]\n",
    "df = pd.get_dummies(df, columns=airportfrom_labels, drop_first=False)"
   ]
  },
  {
   "cell_type": "code",
   "execution_count": 8,
   "metadata": {},
   "outputs": [],
   "source": [
    "airportto_labels = [\"AirportTo\"]\n",
    "df = pd.get_dummies(df, columns=airportto_labels, drop_first=False)"
   ]
  },
  {
   "cell_type": "code",
   "execution_count": 9,
   "metadata": {},
   "outputs": [
    {
     "data": {
      "text/html": [
       "<div>\n",
       "<style scoped>\n",
       "    .dataframe tbody tr th:only-of-type {\n",
       "        vertical-align: middle;\n",
       "    }\n",
       "\n",
       "    .dataframe tbody tr th {\n",
       "        vertical-align: top;\n",
       "    }\n",
       "\n",
       "    .dataframe thead th {\n",
       "        text-align: right;\n",
       "    }\n",
       "</style>\n",
       "<table border=\"1\" class=\"dataframe\">\n",
       "  <thead>\n",
       "    <tr style=\"text-align: right;\">\n",
       "      <th></th>\n",
       "      <th>Flight</th>\n",
       "      <th>Time</th>\n",
       "      <th>Length</th>\n",
       "      <th>DayOfWeek</th>\n",
       "      <th>Class</th>\n",
       "      <th>Airline_9E</th>\n",
       "      <th>Airline_AA</th>\n",
       "      <th>Airline_AS</th>\n",
       "      <th>Airline_B6</th>\n",
       "      <th>Airline_CO</th>\n",
       "      <th>...</th>\n",
       "      <th>AirportTo_TXK</th>\n",
       "      <th>AirportTo_TYR</th>\n",
       "      <th>AirportTo_TYS</th>\n",
       "      <th>AirportTo_UTM</th>\n",
       "      <th>AirportTo_VLD</th>\n",
       "      <th>AirportTo_VPS</th>\n",
       "      <th>AirportTo_WRG</th>\n",
       "      <th>AirportTo_XNA</th>\n",
       "      <th>AirportTo_YAK</th>\n",
       "      <th>AirportTo_YUM</th>\n",
       "    </tr>\n",
       "  </thead>\n",
       "  <tbody>\n",
       "    <tr>\n",
       "      <th>0</th>\n",
       "      <td>2313.0</td>\n",
       "      <td>1296.0</td>\n",
       "      <td>141.0</td>\n",
       "      <td>1</td>\n",
       "      <td>0</td>\n",
       "      <td>0</td>\n",
       "      <td>0</td>\n",
       "      <td>0</td>\n",
       "      <td>0</td>\n",
       "      <td>0</td>\n",
       "      <td>...</td>\n",
       "      <td>0</td>\n",
       "      <td>0</td>\n",
       "      <td>0</td>\n",
       "      <td>0</td>\n",
       "      <td>0</td>\n",
       "      <td>0</td>\n",
       "      <td>0</td>\n",
       "      <td>0</td>\n",
       "      <td>0</td>\n",
       "      <td>0</td>\n",
       "    </tr>\n",
       "    <tr>\n",
       "      <th>1</th>\n",
       "      <td>6948.0</td>\n",
       "      <td>360.0</td>\n",
       "      <td>146.0</td>\n",
       "      <td>4</td>\n",
       "      <td>0</td>\n",
       "      <td>0</td>\n",
       "      <td>0</td>\n",
       "      <td>0</td>\n",
       "      <td>0</td>\n",
       "      <td>0</td>\n",
       "      <td>...</td>\n",
       "      <td>0</td>\n",
       "      <td>0</td>\n",
       "      <td>0</td>\n",
       "      <td>0</td>\n",
       "      <td>0</td>\n",
       "      <td>0</td>\n",
       "      <td>0</td>\n",
       "      <td>0</td>\n",
       "      <td>0</td>\n",
       "      <td>0</td>\n",
       "    </tr>\n",
       "    <tr>\n",
       "      <th>2</th>\n",
       "      <td>1247.0</td>\n",
       "      <td>1170.0</td>\n",
       "      <td>143.0</td>\n",
       "      <td>3</td>\n",
       "      <td>0</td>\n",
       "      <td>0</td>\n",
       "      <td>0</td>\n",
       "      <td>0</td>\n",
       "      <td>1</td>\n",
       "      <td>0</td>\n",
       "      <td>...</td>\n",
       "      <td>0</td>\n",
       "      <td>0</td>\n",
       "      <td>0</td>\n",
       "      <td>0</td>\n",
       "      <td>0</td>\n",
       "      <td>0</td>\n",
       "      <td>0</td>\n",
       "      <td>0</td>\n",
       "      <td>0</td>\n",
       "      <td>0</td>\n",
       "    </tr>\n",
       "    <tr>\n",
       "      <th>3</th>\n",
       "      <td>31.0</td>\n",
       "      <td>1410.0</td>\n",
       "      <td>344.0</td>\n",
       "      <td>6</td>\n",
       "      <td>0</td>\n",
       "      <td>0</td>\n",
       "      <td>0</td>\n",
       "      <td>0</td>\n",
       "      <td>0</td>\n",
       "      <td>0</td>\n",
       "      <td>...</td>\n",
       "      <td>0</td>\n",
       "      <td>0</td>\n",
       "      <td>0</td>\n",
       "      <td>0</td>\n",
       "      <td>0</td>\n",
       "      <td>0</td>\n",
       "      <td>0</td>\n",
       "      <td>0</td>\n",
       "      <td>0</td>\n",
       "      <td>0</td>\n",
       "    </tr>\n",
       "    <tr>\n",
       "      <th>4</th>\n",
       "      <td>563.0</td>\n",
       "      <td>692.0</td>\n",
       "      <td>98.0</td>\n",
       "      <td>4</td>\n",
       "      <td>0</td>\n",
       "      <td>0</td>\n",
       "      <td>0</td>\n",
       "      <td>0</td>\n",
       "      <td>0</td>\n",
       "      <td>0</td>\n",
       "      <td>...</td>\n",
       "      <td>0</td>\n",
       "      <td>0</td>\n",
       "      <td>0</td>\n",
       "      <td>0</td>\n",
       "      <td>0</td>\n",
       "      <td>0</td>\n",
       "      <td>0</td>\n",
       "      <td>0</td>\n",
       "      <td>0</td>\n",
       "      <td>0</td>\n",
       "    </tr>\n",
       "    <tr>\n",
       "      <th>...</th>\n",
       "      <td>...</td>\n",
       "      <td>...</td>\n",
       "      <td>...</td>\n",
       "      <td>...</td>\n",
       "      <td>...</td>\n",
       "      <td>...</td>\n",
       "      <td>...</td>\n",
       "      <td>...</td>\n",
       "      <td>...</td>\n",
       "      <td>...</td>\n",
       "      <td>...</td>\n",
       "      <td>...</td>\n",
       "      <td>...</td>\n",
       "      <td>...</td>\n",
       "      <td>...</td>\n",
       "      <td>...</td>\n",
       "      <td>...</td>\n",
       "      <td>...</td>\n",
       "      <td>...</td>\n",
       "      <td>...</td>\n",
       "      <td>...</td>\n",
       "    </tr>\n",
       "    <tr>\n",
       "      <th>539377</th>\n",
       "      <td>6973.0</td>\n",
       "      <td>530.0</td>\n",
       "      <td>72.0</td>\n",
       "      <td>5</td>\n",
       "      <td>1</td>\n",
       "      <td>0</td>\n",
       "      <td>0</td>\n",
       "      <td>0</td>\n",
       "      <td>0</td>\n",
       "      <td>0</td>\n",
       "      <td>...</td>\n",
       "      <td>0</td>\n",
       "      <td>0</td>\n",
       "      <td>0</td>\n",
       "      <td>0</td>\n",
       "      <td>0</td>\n",
       "      <td>0</td>\n",
       "      <td>0</td>\n",
       "      <td>0</td>\n",
       "      <td>0</td>\n",
       "      <td>0</td>\n",
       "    </tr>\n",
       "    <tr>\n",
       "      <th>539378</th>\n",
       "      <td>1264.0</td>\n",
       "      <td>560.0</td>\n",
       "      <td>115.0</td>\n",
       "      <td>4</td>\n",
       "      <td>1</td>\n",
       "      <td>0</td>\n",
       "      <td>0</td>\n",
       "      <td>0</td>\n",
       "      <td>0</td>\n",
       "      <td>0</td>\n",
       "      <td>...</td>\n",
       "      <td>0</td>\n",
       "      <td>0</td>\n",
       "      <td>0</td>\n",
       "      <td>0</td>\n",
       "      <td>0</td>\n",
       "      <td>0</td>\n",
       "      <td>0</td>\n",
       "      <td>0</td>\n",
       "      <td>0</td>\n",
       "      <td>0</td>\n",
       "    </tr>\n",
       "    <tr>\n",
       "      <th>539379</th>\n",
       "      <td>5209.0</td>\n",
       "      <td>827.0</td>\n",
       "      <td>74.0</td>\n",
       "      <td>2</td>\n",
       "      <td>1</td>\n",
       "      <td>0</td>\n",
       "      <td>0</td>\n",
       "      <td>0</td>\n",
       "      <td>0</td>\n",
       "      <td>0</td>\n",
       "      <td>...</td>\n",
       "      <td>0</td>\n",
       "      <td>0</td>\n",
       "      <td>0</td>\n",
       "      <td>0</td>\n",
       "      <td>0</td>\n",
       "      <td>0</td>\n",
       "      <td>0</td>\n",
       "      <td>0</td>\n",
       "      <td>0</td>\n",
       "      <td>0</td>\n",
       "    </tr>\n",
       "    <tr>\n",
       "      <th>539380</th>\n",
       "      <td>607.0</td>\n",
       "      <td>715.0</td>\n",
       "      <td>65.0</td>\n",
       "      <td>4</td>\n",
       "      <td>1</td>\n",
       "      <td>0</td>\n",
       "      <td>0</td>\n",
       "      <td>0</td>\n",
       "      <td>0</td>\n",
       "      <td>0</td>\n",
       "      <td>...</td>\n",
       "      <td>0</td>\n",
       "      <td>0</td>\n",
       "      <td>0</td>\n",
       "      <td>0</td>\n",
       "      <td>0</td>\n",
       "      <td>0</td>\n",
       "      <td>0</td>\n",
       "      <td>0</td>\n",
       "      <td>0</td>\n",
       "      <td>0</td>\n",
       "    </tr>\n",
       "    <tr>\n",
       "      <th>539381</th>\n",
       "      <td>6377.0</td>\n",
       "      <td>770.0</td>\n",
       "      <td>55.0</td>\n",
       "      <td>2</td>\n",
       "      <td>1</td>\n",
       "      <td>0</td>\n",
       "      <td>0</td>\n",
       "      <td>0</td>\n",
       "      <td>0</td>\n",
       "      <td>0</td>\n",
       "      <td>...</td>\n",
       "      <td>0</td>\n",
       "      <td>0</td>\n",
       "      <td>0</td>\n",
       "      <td>0</td>\n",
       "      <td>0</td>\n",
       "      <td>0</td>\n",
       "      <td>0</td>\n",
       "      <td>0</td>\n",
       "      <td>0</td>\n",
       "      <td>0</td>\n",
       "    </tr>\n",
       "  </tbody>\n",
       "</table>\n",
       "<p>539382 rows × 609 columns</p>\n",
       "</div>"
      ],
      "text/plain": [
       "        Flight    Time  Length  DayOfWeek  Class  Airline_9E  Airline_AA  \\\n",
       "0       2313.0  1296.0   141.0          1      0           0           0   \n",
       "1       6948.0   360.0   146.0          4      0           0           0   \n",
       "2       1247.0  1170.0   143.0          3      0           0           0   \n",
       "3         31.0  1410.0   344.0          6      0           0           0   \n",
       "4        563.0   692.0    98.0          4      0           0           0   \n",
       "...        ...     ...     ...        ...    ...         ...         ...   \n",
       "539377  6973.0   530.0    72.0          5      1           0           0   \n",
       "539378  1264.0   560.0   115.0          4      1           0           0   \n",
       "539379  5209.0   827.0    74.0          2      1           0           0   \n",
       "539380   607.0   715.0    65.0          4      1           0           0   \n",
       "539381  6377.0   770.0    55.0          2      1           0           0   \n",
       "\n",
       "        Airline_AS  Airline_B6  Airline_CO  ...  AirportTo_TXK  AirportTo_TYR  \\\n",
       "0                0           0           0  ...              0              0   \n",
       "1                0           0           0  ...              0              0   \n",
       "2                0           1           0  ...              0              0   \n",
       "3                0           0           0  ...              0              0   \n",
       "4                0           0           0  ...              0              0   \n",
       "...            ...         ...         ...  ...            ...            ...   \n",
       "539377           0           0           0  ...              0              0   \n",
       "539378           0           0           0  ...              0              0   \n",
       "539379           0           0           0  ...              0              0   \n",
       "539380           0           0           0  ...              0              0   \n",
       "539381           0           0           0  ...              0              0   \n",
       "\n",
       "        AirportTo_TYS  AirportTo_UTM  AirportTo_VLD  AirportTo_VPS  \\\n",
       "0                   0              0              0              0   \n",
       "1                   0              0              0              0   \n",
       "2                   0              0              0              0   \n",
       "3                   0              0              0              0   \n",
       "4                   0              0              0              0   \n",
       "...               ...            ...            ...            ...   \n",
       "539377              0              0              0              0   \n",
       "539378              0              0              0              0   \n",
       "539379              0              0              0              0   \n",
       "539380              0              0              0              0   \n",
       "539381              0              0              0              0   \n",
       "\n",
       "        AirportTo_WRG  AirportTo_XNA  AirportTo_YAK  AirportTo_YUM  \n",
       "0                   0              0              0              0  \n",
       "1                   0              0              0              0  \n",
       "2                   0              0              0              0  \n",
       "3                   0              0              0              0  \n",
       "4                   0              0              0              0  \n",
       "...               ...            ...            ...            ...  \n",
       "539377              0              0              0              0  \n",
       "539378              0              0              0              0  \n",
       "539379              0              0              0              0  \n",
       "539380              0              0              0              0  \n",
       "539381              0              0              0              0  \n",
       "\n",
       "[539382 rows x 609 columns]"
      ]
     },
     "execution_count": 9,
     "metadata": {},
     "output_type": "execute_result"
    }
   ],
   "source": [
    "df"
   ]
  },
  {
   "cell_type": "code",
   "execution_count": 10,
   "metadata": {},
   "outputs": [
    {
     "name": "stdout",
     "output_type": "stream",
     "text": [
      "<class 'pandas.core.frame.DataFrame'>\n",
      "RangeIndex: 539382 entries, 0 to 539381\n",
      "Columns: 609 entries, Flight to AirportTo_YUM\n",
      "dtypes: float64(3), int64(2), uint8(604)\n",
      "memory usage: 331.3 MB\n"
     ]
    }
   ],
   "source": [
    "df.info()"
   ]
  },
  {
   "cell_type": "markdown",
   "id": "1e27a904",
   "metadata": {},
   "source": [
    "Setup testing/training data for the linear model"
   ]
  },
  {
   "cell_type": "code",
   "execution_count": 11,
   "id": "324c0703",
   "metadata": {},
   "outputs": [
    {
     "data": {
      "text/plain": [
       "Index(['Flight', 'Time', 'Length', 'DayOfWeek', 'Class', 'Airline_9E',\n",
       "       'Airline_AA', 'Airline_AS', 'Airline_B6', 'Airline_CO',\n",
       "       ...\n",
       "       'AirportTo_TXK', 'AirportTo_TYR', 'AirportTo_TYS', 'AirportTo_UTM',\n",
       "       'AirportTo_VLD', 'AirportTo_VPS', 'AirportTo_WRG', 'AirportTo_XNA',\n",
       "       'AirportTo_YAK', 'AirportTo_YUM'],\n",
       "      dtype='object', length=609)"
      ]
     },
     "execution_count": 11,
     "metadata": {},
     "output_type": "execute_result"
    }
   ],
   "source": [
    "df.columns"
   ]
  },
  {
   "cell_type": "code",
   "execution_count": 12,
   "metadata": {},
   "outputs": [],
   "source": [
    "x = df.drop([\"Flight\", \"Class\"], axis=1)\n",
    "y = df[\"Class\"]"
   ]
  },
  {
   "cell_type": "code",
   "execution_count": 13,
   "metadata": {},
   "outputs": [],
   "source": [
    "x_train, x_test, y_train, y_test = train_test_split(x, y, test_size=0.3, random_state=101)"
   ]
  },
  {
   "cell_type": "markdown",
   "id": "7df96cca",
   "metadata": {},
   "source": [
    "Training the data"
   ]
  },
  {
   "cell_type": "code",
   "execution_count": 14,
   "id": "047c3f51",
   "metadata": {},
   "outputs": [],
   "source": [
    "lm = LinearRegression()"
   ]
  },
  {
   "cell_type": "code",
   "execution_count": 15,
   "metadata": {},
   "outputs": [
    {
     "data": {
      "text/html": [
       "<style>#sk-container-id-1 {color: black;}#sk-container-id-1 pre{padding: 0;}#sk-container-id-1 div.sk-toggleable {background-color: white;}#sk-container-id-1 label.sk-toggleable__label {cursor: pointer;display: block;width: 100%;margin-bottom: 0;padding: 0.3em;box-sizing: border-box;text-align: center;}#sk-container-id-1 label.sk-toggleable__label-arrow:before {content: \"▸\";float: left;margin-right: 0.25em;color: #696969;}#sk-container-id-1 label.sk-toggleable__label-arrow:hover:before {color: black;}#sk-container-id-1 div.sk-estimator:hover label.sk-toggleable__label-arrow:before {color: black;}#sk-container-id-1 div.sk-toggleable__content {max-height: 0;max-width: 0;overflow: hidden;text-align: left;background-color: #f0f8ff;}#sk-container-id-1 div.sk-toggleable__content pre {margin: 0.2em;color: black;border-radius: 0.25em;background-color: #f0f8ff;}#sk-container-id-1 input.sk-toggleable__control:checked~div.sk-toggleable__content {max-height: 200px;max-width: 100%;overflow: auto;}#sk-container-id-1 input.sk-toggleable__control:checked~label.sk-toggleable__label-arrow:before {content: \"▾\";}#sk-container-id-1 div.sk-estimator input.sk-toggleable__control:checked~label.sk-toggleable__label {background-color: #d4ebff;}#sk-container-id-1 div.sk-label input.sk-toggleable__control:checked~label.sk-toggleable__label {background-color: #d4ebff;}#sk-container-id-1 input.sk-hidden--visually {border: 0;clip: rect(1px 1px 1px 1px);clip: rect(1px, 1px, 1px, 1px);height: 1px;margin: -1px;overflow: hidden;padding: 0;position: absolute;width: 1px;}#sk-container-id-1 div.sk-estimator {font-family: monospace;background-color: #f0f8ff;border: 1px dotted black;border-radius: 0.25em;box-sizing: border-box;margin-bottom: 0.5em;}#sk-container-id-1 div.sk-estimator:hover {background-color: #d4ebff;}#sk-container-id-1 div.sk-parallel-item::after {content: \"\";width: 100%;border-bottom: 1px solid gray;flex-grow: 1;}#sk-container-id-1 div.sk-label:hover label.sk-toggleable__label {background-color: #d4ebff;}#sk-container-id-1 div.sk-serial::before {content: \"\";position: absolute;border-left: 1px solid gray;box-sizing: border-box;top: 0;bottom: 0;left: 50%;z-index: 0;}#sk-container-id-1 div.sk-serial {display: flex;flex-direction: column;align-items: center;background-color: white;padding-right: 0.2em;padding-left: 0.2em;position: relative;}#sk-container-id-1 div.sk-item {position: relative;z-index: 1;}#sk-container-id-1 div.sk-parallel {display: flex;align-items: stretch;justify-content: center;background-color: white;position: relative;}#sk-container-id-1 div.sk-item::before, #sk-container-id-1 div.sk-parallel-item::before {content: \"\";position: absolute;border-left: 1px solid gray;box-sizing: border-box;top: 0;bottom: 0;left: 50%;z-index: -1;}#sk-container-id-1 div.sk-parallel-item {display: flex;flex-direction: column;z-index: 1;position: relative;background-color: white;}#sk-container-id-1 div.sk-parallel-item:first-child::after {align-self: flex-end;width: 50%;}#sk-container-id-1 div.sk-parallel-item:last-child::after {align-self: flex-start;width: 50%;}#sk-container-id-1 div.sk-parallel-item:only-child::after {width: 0;}#sk-container-id-1 div.sk-dashed-wrapped {border: 1px dashed gray;margin: 0 0.4em 0.5em 0.4em;box-sizing: border-box;padding-bottom: 0.4em;background-color: white;}#sk-container-id-1 div.sk-label label {font-family: monospace;font-weight: bold;display: inline-block;line-height: 1.2em;}#sk-container-id-1 div.sk-label-container {text-align: center;}#sk-container-id-1 div.sk-container {/* jupyter's `normalize.less` sets `[hidden] { display: none; }` but bootstrap.min.css set `[hidden] { display: none !important; }` so we also need the `!important` here to be able to override the default hidden behavior on the sphinx rendered scikit-learn.org. See: https://github.com/scikit-learn/scikit-learn/issues/21755 */display: inline-block !important;position: relative;}#sk-container-id-1 div.sk-text-repr-fallback {display: none;}</style><div id=\"sk-container-id-1\" class=\"sk-top-container\"><div class=\"sk-text-repr-fallback\"><pre>LinearRegression()</pre><b>In a Jupyter environment, please rerun this cell to show the HTML representation or trust the notebook. <br />On GitHub, the HTML representation is unable to render, please try loading this page with nbviewer.org.</b></div><div class=\"sk-container\" hidden><div class=\"sk-item\"><div class=\"sk-estimator sk-toggleable\"><input class=\"sk-toggleable__control sk-hidden--visually\" id=\"sk-estimator-id-1\" type=\"checkbox\" checked><label for=\"sk-estimator-id-1\" class=\"sk-toggleable__label sk-toggleable__label-arrow\">LinearRegression</label><div class=\"sk-toggleable__content\"><pre>LinearRegression()</pre></div></div></div></div></div>"
      ],
      "text/plain": [
       "LinearRegression()"
      ]
     },
     "execution_count": 15,
     "metadata": {},
     "output_type": "execute_result"
    }
   ],
   "source": [
    "lm.fit(x_test, y_test)"
   ]
  },
  {
   "cell_type": "code",
   "execution_count": 16,
   "metadata": {},
   "outputs": [
    {
     "name": "stdout",
     "output_type": "stream",
     "text": [
      "[ 2.68666539e-04  4.14535380e-04 -7.02826696e-03  2.16998276e+08\n",
      "  2.16998276e+08  2.16998276e+08  2.16998276e+08  2.16998276e+08\n",
      "  2.16998276e+08  2.16998276e+08  2.16998276e+08  2.16998276e+08\n",
      "  2.16998276e+08  2.16998276e+08  2.16998276e+08  2.16998276e+08\n",
      "  2.16998276e+08  2.16998276e+08  2.16998276e+08  2.16998276e+08\n",
      "  2.16998276e+08  1.58722139e+07  1.58722139e+07  1.58722139e+07\n",
      "  1.58722137e+07  1.58722137e+07  1.58722140e+07  1.58722141e+07\n",
      "  1.58722140e+07  1.58722141e+07  1.58722140e+07  1.58722139e+07\n",
      "  1.58722139e+07  1.58722140e+07  1.58722140e+07  1.58722140e+07\n",
      "  1.58722139e+07  1.58722140e+07  1.58722139e+07  1.58722139e+07\n",
      "  1.58722140e+07  1.58722140e+07  1.58722140e+07  1.58722140e+07\n",
      "  1.58722142e+07  1.58722140e+07  1.58722141e+07  1.58722143e+07\n",
      "  1.58722140e+07  1.58722138e+07  1.58722140e+07  1.58722139e+07\n",
      "  1.58722140e+07  1.58722140e+07  1.58722140e+07  1.58722140e+07\n",
      "  1.58722140e+07  1.58722137e+07  1.58722139e+07  1.58722138e+07\n",
      "  1.58722142e+07  1.58722141e+07  1.58722139e+07  1.58722140e+07\n",
      "  1.58722140e+07  1.58722140e+07  1.58722140e+07  1.58722139e+07\n",
      "  1.58722139e+07  1.58722140e+07  1.58722139e+07  1.58722139e+07\n",
      "  1.58722140e+07  1.58722139e+07  1.58722138e+07  1.58722139e+07\n",
      "  1.58722139e+07  1.58722139e+07  1.58722140e+07  1.58722140e+07\n",
      "  1.58722141e+07  1.58722141e+07  1.58722140e+07  1.58722141e+07\n",
      "  1.58722138e+07  1.58722140e+07  1.58722140e+07  1.58722140e+07\n",
      "  1.58722139e+07  1.58722138e+07  1.58722140e+07  1.58722139e+07\n",
      "  1.58722140e+07  1.58722140e+07  1.58722138e+07  1.58722140e+07\n",
      "  1.58722141e+07  1.58722139e+07  1.58722141e+07  1.58722139e+07\n",
      "  1.58722140e+07  1.58722141e+07  1.58722137e+07  1.58722140e+07\n",
      "  1.58722140e+07  1.58722140e+07  1.58722141e+07  1.58722139e+07\n",
      "  1.58722138e+07  1.58722139e+07  1.58722140e+07  1.58722140e+07\n",
      "  1.58722139e+07  1.58722140e+07  1.58722140e+07  1.58722139e+07\n",
      "  1.58722138e+07  1.58722140e+07  1.58722141e+07  1.58722141e+07\n",
      "  1.58722140e+07  1.58722140e+07  1.58722138e+07  1.58722139e+07\n",
      "  1.58722139e+07  1.58722140e+07  1.58722141e+07  1.58722141e+07\n",
      "  1.58722140e+07  1.58722138e+07  1.58722139e+07  1.58722139e+07\n",
      "  1.58722139e+07  1.58722139e+07  1.58722141e+07  1.58722140e+07\n",
      "  1.58722139e+07  1.58722139e+07  1.58722139e+07  1.58722139e+07\n",
      "  1.58722140e+07  1.58722140e+07  1.58722139e+07  1.58722139e+07\n",
      "  1.58722138e+07  1.58722140e+07  1.58722138e+07  1.58722139e+07\n",
      "  1.58722139e+07  1.58722139e+07  1.58722140e+07  1.58722140e+07\n",
      "  1.58722137e+07  1.58722139e+07  1.58722140e+07  1.58722140e+07\n",
      "  1.58722140e+07  1.58722139e+07  1.58722140e+07  1.58722139e+07\n",
      "  1.58722140e+07  1.58722138e+07  1.58722139e+07  1.58722142e+07\n",
      "  1.58722139e+07  1.58722139e+07  1.58722139e+07  1.58722139e+07\n",
      "  1.58722139e+07  1.58722139e+07  1.58722141e+07  1.58722138e+07\n",
      "  1.58722139e+07  1.58722139e+07  1.58722140e+07  1.58722140e+07\n",
      "  1.58722139e+07  1.58722139e+07  1.58722141e+07  1.58722138e+07\n",
      "  1.58722140e+07  1.58722140e+07  1.58722138e+07  1.58722139e+07\n",
      "  1.58722139e+07  1.58722139e+07  1.58722139e+07  1.58722139e+07\n",
      "  1.58722139e+07  1.58722140e+07  1.58722140e+07  1.58722139e+07\n",
      "  1.58722138e+07  1.58722140e+07  1.58722140e+07  1.58722140e+07\n",
      "  1.58722141e+07  1.58722140e+07  1.58722139e+07  1.58722139e+07\n",
      "  1.58722140e+07  1.58722139e+07  1.58722140e+07  1.58722138e+07\n",
      "  1.58722140e+07  1.58722140e+07  1.58722137e+07  1.58722139e+07\n",
      "  1.58722140e+07  1.58722139e+07  1.58722137e+07  1.58722139e+07\n",
      "  1.58722138e+07  1.58722141e+07  1.58722141e+07  1.58722139e+07\n",
      "  1.58722140e+07  1.58722139e+07  1.58722141e+07  1.58722139e+07\n",
      "  1.58722139e+07  1.58722139e+07  1.58722139e+07  1.58722141e+07\n",
      "  1.58722138e+07  1.58722139e+07  1.58722139e+07  1.58722141e+07\n",
      "  1.58722140e+07  1.58722141e+07  1.58722139e+07  1.58722142e+07\n",
      "  1.58722142e+07  1.58722140e+07  1.58722139e+07  1.58722140e+07\n",
      "  1.58722140e+07  1.58722140e+07  1.58722140e+07  1.58722140e+07\n",
      "  1.58722142e+07  1.58722140e+07  1.58722140e+07  1.58722137e+07\n",
      "  1.58722139e+07  1.58722142e+07  1.58722141e+07  1.58722141e+07\n",
      "  1.58722140e+07  1.58722139e+07  1.58722139e+07  1.58722140e+07\n",
      "  1.58722138e+07  1.58722141e+07  1.58722140e+07  1.58722140e+07\n",
      "  1.58722141e+07  1.58722140e+07  1.58722139e+07  1.58722140e+07\n",
      "  1.58722142e+07  1.58722139e+07  1.58722139e+07  1.58722140e+07\n",
      "  1.58722140e+07  1.58722139e+07  1.58722140e+07  1.58722140e+07\n",
      "  1.58722141e+07  1.58722140e+07  1.58722140e+07  1.58722141e+07\n",
      "  1.58722140e+07  1.58722140e+07  1.58722141e+07  1.58722139e+07\n",
      "  1.58722139e+07  1.58722138e+07  1.58722140e+07  1.58722140e+07\n",
      "  1.58722142e+07  1.58722140e+07  1.58722141e+07  1.58722140e+07\n",
      "  1.58722138e+07  1.58722140e+07  1.58722138e+07  1.58722139e+07\n",
      "  1.58722139e+07  1.58722140e+07  1.58722139e+07  1.58722137e+07\n",
      "  1.58722138e+07  1.58722140e+07  1.58722141e+07  1.58722138e+07\n",
      "  1.58722139e+07  1.58722140e+07  1.58722139e+07  1.58722139e+07\n",
      "  1.58722139e+07  1.58722139e+07  1.58722139e+07  1.58722140e+07\n",
      "  1.58722138e+07  1.58722139e+07  1.58722139e+07  1.58722141e+07\n",
      "  1.58722136e+07  1.58722139e+07  1.58722141e+07  1.58722139e+07\n",
      "  1.58722139e+07  1.58722139e+07  7.48975448e+06  7.48975434e+06\n",
      "  7.48975449e+06  7.48975497e+06  7.48975421e+06  7.48975441e+06\n",
      "  7.48975449e+06  7.48975423e+06  7.48975415e+06  7.48975457e+06\n",
      "  7.48975423e+06  7.48975438e+06  7.48975445e+06  7.48975444e+06\n",
      "  7.48975452e+06  7.48975452e+06  7.48975449e+06  7.48975435e+06\n",
      "  7.48975443e+06  7.48975438e+06  7.48975441e+06  7.48975446e+06\n",
      "  7.48975443e+06  7.48975451e+06  7.48975429e+06  7.48975436e+06\n",
      "  7.48975411e+06  7.48975447e+06  7.48975436e+06  7.48975435e+06\n",
      "  7.48975451e+06  7.48975451e+06  7.48975440e+06  7.48975443e+06\n",
      "  7.48975451e+06  7.48975443e+06  7.48975418e+06  7.48975450e+06\n",
      "  7.48975445e+06  7.48975464e+06  7.48975415e+06  7.48975438e+06\n",
      "  7.48975446e+06  7.48975447e+06  7.48975441e+06  7.48975445e+06\n",
      "  7.48975441e+06  7.48975435e+06  7.48975445e+06  7.48975430e+06\n",
      "  7.48975455e+06  7.48975467e+06  7.48975436e+06  7.48975432e+06\n",
      "  7.48975446e+06  7.48975448e+06  7.48975436e+06  7.48975437e+06\n",
      "  7.48975443e+06  7.48975467e+06  7.48975448e+06  7.48975443e+06\n",
      "  7.48975441e+06  7.48975438e+06  7.48975423e+06  7.48975441e+06\n",
      "  7.48975438e+06  7.48975437e+06  7.48975445e+06  7.48975441e+06\n",
      "  7.48975429e+06  7.48975445e+06  7.48975428e+06  7.48975450e+06\n",
      "  7.48975454e+06  7.48975443e+06  7.48975438e+06  7.48975436e+06\n",
      "  7.48975441e+06  7.48975446e+06  7.48975448e+06  7.48975420e+06\n",
      "  7.48975437e+06  7.48975444e+06  7.48975439e+06  7.48975449e+06\n",
      "  7.48975422e+06  7.48975439e+06  7.48975454e+06  7.48975455e+06\n",
      "  7.48975446e+06  7.48975450e+06  7.48975431e+06  7.48975445e+06\n",
      "  7.48975439e+06  7.48975421e+06  7.48975449e+06  7.48975449e+06\n",
      "  7.48975442e+06  7.48975434e+06  7.48975444e+06  7.48975435e+06\n",
      "  7.48975420e+06  7.48975434e+06  7.48975450e+06  7.48975425e+06\n",
      "  7.48975453e+06  7.48975440e+06  7.48975429e+06  7.48975435e+06\n",
      "  7.48975444e+06  7.48975445e+06  7.48975449e+06  7.48975431e+06\n",
      "  7.48975440e+06  7.48975432e+06  7.48975440e+06  7.48975446e+06\n",
      "  7.48975449e+06  7.48975448e+06  7.48975441e+06  7.48975438e+06\n",
      "  7.48975429e+06  7.48975423e+06  7.48975450e+06  7.48975430e+06\n",
      "  7.48975458e+06  7.48975449e+06  7.48975449e+06  7.48975445e+06\n",
      "  7.48975440e+06  7.48975451e+06  7.48975438e+06  7.48975422e+06\n",
      "  7.48975444e+06  7.48975446e+06  7.48975439e+06  7.48975447e+06\n",
      "  7.48975444e+06  7.48975446e+06  7.48975434e+06  7.48975435e+06\n",
      "  7.48975423e+06  7.48975452e+06  7.48975422e+06  7.48975456e+06\n",
      "  7.48975437e+06  7.48975445e+06  7.48975441e+06  7.48975454e+06\n",
      "  7.48975453e+06  7.48975452e+06  7.48975437e+06  7.48975446e+06\n",
      "  7.48975449e+06  7.48975444e+06  7.48975430e+06  7.48975443e+06\n",
      "  7.48975443e+06  7.48975446e+06  7.48975438e+06  7.48975448e+06\n",
      "  7.48975444e+06  7.48975439e+06  7.48975437e+06  7.48975435e+06\n",
      "  7.48975431e+06  7.48975438e+06  7.48975415e+06  7.48975451e+06\n",
      "  7.48975442e+06  7.48975438e+06  7.48975445e+06  7.48975449e+06\n",
      "  7.48975434e+06  7.48975444e+06  7.48975439e+06  7.48975444e+06\n",
      "  7.48975438e+06  7.48975448e+06  7.48975432e+06  7.48975425e+06\n",
      "  7.48975444e+06  7.48975455e+06  7.48975448e+06  7.48975423e+06\n",
      "  7.48975441e+06  7.48975445e+06  7.48975439e+06  7.48975431e+06\n",
      "  7.48975437e+06  7.48975443e+06  7.48975439e+06  7.48975451e+06\n",
      "  7.48975436e+06  7.48975441e+06  7.48975434e+06  7.48975451e+06\n",
      "  7.48975442e+06  7.48975444e+06  7.48975436e+06  7.48975447e+06\n",
      "  7.48975443e+06  7.48975444e+06  7.48975442e+06  7.48975441e+06\n",
      "  7.48975459e+06  7.48975451e+06  7.48975451e+06  7.48975441e+06\n",
      "  7.48975454e+06  7.48975483e+06  7.48975412e+06  7.48975452e+06\n",
      "  7.48975447e+06  7.48975457e+06  7.48975440e+06  7.48975445e+06\n",
      "  7.48975450e+06  7.48975436e+06  7.48975457e+06  7.48975445e+06\n",
      "  7.48975435e+06  7.48975441e+06  7.48975428e+06  7.48975437e+06\n",
      "  7.48975447e+06  7.48975444e+06  7.48975440e+06  7.48975442e+06\n",
      "  7.48975442e+06  7.48975456e+06  7.48975436e+06  7.48975449e+06\n",
      "  7.48975444e+06  7.48975450e+06  7.48975444e+06  7.48975432e+06\n",
      "  7.48975441e+06  7.48975446e+06  7.48975446e+06  7.48975444e+06\n",
      "  7.48975432e+06  7.48975449e+06  7.48975446e+06  7.48975444e+06\n",
      "  7.48975444e+06  7.48975434e+06  7.48975438e+06  7.48975438e+06\n",
      "  7.48975450e+06  7.48975449e+06  7.48975452e+06  7.48975457e+06\n",
      "  7.48975435e+06  7.48975447e+06  7.48975434e+06  7.48975461e+06\n",
      "  7.48975444e+06  7.48975478e+06  7.48975456e+06  7.48975451e+06\n",
      "  7.48975448e+06  7.48975432e+06  7.48975443e+06  7.48975429e+06\n",
      "  7.48975441e+06  7.48975442e+06  7.48975444e+06  7.48975455e+06\n",
      "  7.48975486e+06  7.48975462e+06  7.48975453e+06  7.48975444e+06\n",
      "  7.48975438e+06  7.48975443e+06  7.48975424e+06  7.48975448e+06\n",
      "  7.48975426e+06  7.48975442e+06  7.48975445e+06  7.48975443e+06\n",
      "  7.48975458e+06  7.48975444e+06  7.48975429e+06  7.48975439e+06\n",
      "  7.48975442e+06  7.48975432e+06  7.48975431e+06  7.48975451e+06\n",
      "  7.48975438e+06  7.48975463e+06  7.48975437e+06]\n"
     ]
    }
   ],
   "source": [
    "print(lm.coef_)"
   ]
  },
  {
   "cell_type": "code",
   "execution_count": 18,
   "metadata": {},
   "outputs": [
    {
     "data": {
      "text/html": [
       "<div>\n",
       "<style scoped>\n",
       "    .dataframe tbody tr th:only-of-type {\n",
       "        vertical-align: middle;\n",
       "    }\n",
       "\n",
       "    .dataframe tbody tr th {\n",
       "        vertical-align: top;\n",
       "    }\n",
       "\n",
       "    .dataframe thead th {\n",
       "        text-align: right;\n",
       "    }\n",
       "</style>\n",
       "<table border=\"1\" class=\"dataframe\">\n",
       "  <thead>\n",
       "    <tr style=\"text-align: right;\">\n",
       "      <th></th>\n",
       "      <th>Coefficient</th>\n",
       "    </tr>\n",
       "  </thead>\n",
       "  <tbody>\n",
       "    <tr>\n",
       "      <th>Airline_WN</th>\n",
       "      <td>2.169983e+08</td>\n",
       "    </tr>\n",
       "    <tr>\n",
       "      <th>Airline_CO</th>\n",
       "      <td>2.169983e+08</td>\n",
       "    </tr>\n",
       "    <tr>\n",
       "      <th>Airline_B6</th>\n",
       "      <td>2.169983e+08</td>\n",
       "    </tr>\n",
       "    <tr>\n",
       "      <th>Airline_EV</th>\n",
       "      <td>2.169983e+08</td>\n",
       "    </tr>\n",
       "    <tr>\n",
       "      <th>Airline_OO</th>\n",
       "      <td>2.169983e+08</td>\n",
       "    </tr>\n",
       "    <tr>\n",
       "      <th>...</th>\n",
       "      <td>...</td>\n",
       "    </tr>\n",
       "    <tr>\n",
       "      <th>AirportTo_PAH</th>\n",
       "      <td>7.489754e+06</td>\n",
       "    </tr>\n",
       "    <tr>\n",
       "      <th>AirportTo_BGR</th>\n",
       "      <td>7.489754e+06</td>\n",
       "    </tr>\n",
       "    <tr>\n",
       "      <th>Length</th>\n",
       "      <td>4.145354e-04</td>\n",
       "    </tr>\n",
       "    <tr>\n",
       "      <th>Time</th>\n",
       "      <td>2.686665e-04</td>\n",
       "    </tr>\n",
       "    <tr>\n",
       "      <th>DayOfWeek</th>\n",
       "      <td>-7.028267e-03</td>\n",
       "    </tr>\n",
       "  </tbody>\n",
       "</table>\n",
       "<p>607 rows × 1 columns</p>\n",
       "</div>"
      ],
      "text/plain": [
       "                Coefficient\n",
       "Airline_WN     2.169983e+08\n",
       "Airline_CO     2.169983e+08\n",
       "Airline_B6     2.169983e+08\n",
       "Airline_EV     2.169983e+08\n",
       "Airline_OO     2.169983e+08\n",
       "...                     ...\n",
       "AirportTo_PAH  7.489754e+06\n",
       "AirportTo_BGR  7.489754e+06\n",
       "Length         4.145354e-04\n",
       "Time           2.686665e-04\n",
       "DayOfWeek     -7.028267e-03\n",
       "\n",
       "[607 rows x 1 columns]"
      ]
     },
     "execution_count": 18,
     "metadata": {},
     "output_type": "execute_result"
    }
   ],
   "source": [
    "coef_df = pd.DataFrame(lm.coef_, x.columns, columns=[\"Coefficient\"])\n",
    "coef_df.sort_values(\"Coefficient\", ascending=False)"
   ]
  },
  {
   "cell_type": "markdown",
   "id": "8840acc4",
   "metadata": {},
   "source": [
    "Predicting the testing data"
   ]
  },
  {
   "cell_type": "markdown",
   "id": "f9fa6954",
   "metadata": {},
   "source": [
    "Predicting the testing data"
   ]
  },
  {
   "cell_type": "code",
   "execution_count": 19,
   "id": "cdaff5c3",
   "metadata": {},
   "outputs": [],
   "source": [
    "prediction = lm.predict(x_test)"
   ]
  },
  {
   "cell_type": "code",
   "execution_count": 20,
   "metadata": {},
   "outputs": [
    {
     "data": {
      "text/plain": [
       "<AxesSubplot: xlabel='Class'>"
      ]
     },
     "execution_count": 20,
     "metadata": {},
     "output_type": "execute_result"
    },
    {
     "data": {
      "image/png": "[encoded data removed]",
      "text/plain": [
       "<Figure size 1000x600 with 1 Axes>"
      ]
     },
     "metadata": {},
     "output_type": "display_data"
    }
   ],
   "source": [
    "fig, ax = plt.subplots(figsize=(10, 6))\n",
    "\n",
    "sns.scatterplot(data=None, x=y_test, y=prediction)"
   ]
  },
  {
   "cell_type": "code",
   "execution_count": 21,
   "metadata": {},
   "outputs": [
    {
     "name": "stdout",
     "output_type": "stream",
     "text": [
      "MAE 0.43704746856134863\n",
      "MSE 0.21851181526614488\n",
      "RMSE 0.46745247380471194\n"
     ]
    }
   ],
   "source": [
    "print(\"MAE\", metrics.mean_absolute_error(y_test, prediction))\n",
    "print(\"MSE\", metrics.mean_squared_error(y_test, prediction))\n",
    "print(\"RMSE\", np.sqrt(metrics.mean_squared_error(y_test, prediction)))"
   ]
  },
  {
   "cell_type": "code",
   "execution_count": 22,
   "metadata": {},
   "outputs": [
    {
     "data": {
      "text/plain": [
       "<seaborn.axisgrid.FacetGrid at 0x7f4e91394b10>"
      ]
     },
     "execution_count": 22,
     "metadata": {},
     "output_type": "execute_result"
    },
    {
     "data": {
      "image/png": "[encoded data removed]",
      "text/plain": [
       "<Figure size 500x500 with 1 Axes>"
      ]
     },
     "metadata": {},
     "output_type": "display_data"
    }
   ],
   "source": [
    "sns.displot(data=None, x=y_test - prediction, kde=True, bins=50)"
   ]
  },
  {
   "cell_type": "code",
   "execution_count": 23,
   "metadata": {},
   "outputs": [
    {
     "data": {
      "text/html": [
       "<div>\n",
       "<style scoped>\n",
       "    .dataframe tbody tr th:only-of-type {\n",
       "        vertical-align: middle;\n",
       "    }\n",
       "\n",
       "    .dataframe tbody tr th {\n",
       "        vertical-align: top;\n",
       "    }\n",
       "\n",
       "    .dataframe thead th {\n",
       "        text-align: right;\n",
       "    }\n",
       "</style>\n",
       "<table border=\"1\" class=\"dataframe\">\n",
       "  <thead>\n",
       "    <tr style=\"text-align: right;\">\n",
       "      <th></th>\n",
       "      <th>Coefficient</th>\n",
       "    </tr>\n",
       "  </thead>\n",
       "  <tbody>\n",
       "    <tr>\n",
       "      <th>Time</th>\n",
       "      <td>2.686665e-04</td>\n",
       "    </tr>\n",
       "    <tr>\n",
       "      <th>Length</th>\n",
       "      <td>4.145354e-04</td>\n",
       "    </tr>\n",
       "    <tr>\n",
       "      <th>DayOfWeek</th>\n",
       "      <td>-7.028267e-03</td>\n",
       "    </tr>\n",
       "    <tr>\n",
       "      <th>Airline_9E</th>\n",
       "      <td>2.169983e+08</td>\n",
       "    </tr>\n",
       "    <tr>\n",
       "      <th>Airline_AA</th>\n",
       "      <td>2.169983e+08</td>\n",
       "    </tr>\n",
       "    <tr>\n",
       "      <th>...</th>\n",
       "      <td>...</td>\n",
       "    </tr>\n",
       "    <tr>\n",
       "      <th>AirportTo_VPS</th>\n",
       "      <td>7.489754e+06</td>\n",
       "    </tr>\n",
       "    <tr>\n",
       "      <th>AirportTo_WRG</th>\n",
       "      <td>7.489755e+06</td>\n",
       "    </tr>\n",
       "    <tr>\n",
       "      <th>AirportTo_XNA</th>\n",
       "      <td>7.489754e+06</td>\n",
       "    </tr>\n",
       "    <tr>\n",
       "      <th>AirportTo_YAK</th>\n",
       "      <td>7.489755e+06</td>\n",
       "    </tr>\n",
       "    <tr>\n",
       "      <th>AirportTo_YUM</th>\n",
       "      <td>7.489754e+06</td>\n",
       "    </tr>\n",
       "  </tbody>\n",
       "</table>\n",
       "<p>607 rows × 1 columns</p>\n",
       "</div>"
      ],
      "text/plain": [
       "                Coefficient\n",
       "Time           2.686665e-04\n",
       "Length         4.145354e-04\n",
       "DayOfWeek     -7.028267e-03\n",
       "Airline_9E     2.169983e+08\n",
       "Airline_AA     2.169983e+08\n",
       "...                     ...\n",
       "AirportTo_VPS  7.489754e+06\n",
       "AirportTo_WRG  7.489755e+06\n",
       "AirportTo_XNA  7.489754e+06\n",
       "AirportTo_YAK  7.489755e+06\n",
       "AirportTo_YUM  7.489754e+06\n",
       "\n",
       "[607 rows x 1 columns]"
      ]
     },
     "execution_count": 23,
     "metadata": {},
     "output_type": "execute_result"
    }
   ],
   "source": [
    "coeff_df = pd.DataFrame(lm.coef_, x.columns, columns=[\"Coefficient\"])\n",
    "coeff_df"
   ]
  },
  {
   "cell_type": "markdown",
   "id": "6b5688af",
   "metadata": {},
   "source": [
    "### Logistic Regression"
   ]
  },
  {
   "cell_type": "markdown",
   "id": "b5b05e21",
   "metadata": {},
   "source": [
    "setup testing/training data for linear logistic regression"
   ]
  },
  {
   "cell_type": "code",
   "execution_count": 24,
   "id": "d5dc685a",
   "metadata": {},
   "outputs": [],
   "source": [
    "x = df.drop([\"Flight\", \"Class\"], axis=1)\n",
    "y = df[\"Class\"]"
   ]
  },
  {
   "cell_type": "code",
   "execution_count": 25,
   "metadata": {},
   "outputs": [],
   "source": [
    "x_train, x_test, y_train, y_test = train_test_split(x, y, test_size=0.4, random_state=0)"
   ]
  },
  {
   "cell_type": "code",
   "execution_count": 26,
   "metadata": {},
   "outputs": [
    {
     "data": {
      "text/html": [
       "<style>#sk-container-id-2 {color: black;}#sk-container-id-2 pre{padding: 0;}#sk-container-id-2 div.sk-toggleable {background-color: white;}#sk-container-id-2 label.sk-toggleable__label {cursor: pointer;display: block;width: 100%;margin-bottom: 0;padding: 0.3em;box-sizing: border-box;text-align: center;}#sk-container-id-2 label.sk-toggleable__label-arrow:before {content: \"▸\";float: left;margin-right: 0.25em;color: #696969;}#sk-container-id-2 label.sk-toggleable__label-arrow:hover:before {color: black;}#sk-container-id-2 div.sk-estimator:hover label.sk-toggleable__label-arrow:before {color: black;}#sk-container-id-2 div.sk-toggleable__content {max-height: 0;max-width: 0;overflow: hidden;text-align: left;background-color: #f0f8ff;}#sk-container-id-2 div.sk-toggleable__content pre {margin: 0.2em;color: black;border-radius: 0.25em;background-color: #f0f8ff;}#sk-container-id-2 input.sk-toggleable__control:checked~div.sk-toggleable__content {max-height: 200px;max-width: 100%;overflow: auto;}#sk-container-id-2 input.sk-toggleable__control:checked~label.sk-toggleable__label-arrow:before {content: \"▾\";}#sk-container-id-2 div.sk-estimator input.sk-toggleable__control:checked~label.sk-toggleable__label {background-color: #d4ebff;}#sk-container-id-2 div.sk-label input.sk-toggleable__control:checked~label.sk-toggleable__label {background-color: #d4ebff;}#sk-container-id-2 input.sk-hidden--visually {border: 0;clip: rect(1px 1px 1px 1px);clip: rect(1px, 1px, 1px, 1px);height: 1px;margin: -1px;overflow: hidden;padding: 0;position: absolute;width: 1px;}#sk-container-id-2 div.sk-estimator {font-family: monospace;background-color: #f0f8ff;border: 1px dotted black;border-radius: 0.25em;box-sizing: border-box;margin-bottom: 0.5em;}#sk-container-id-2 div.sk-estimator:hover {background-color: #d4ebff;}#sk-container-id-2 div.sk-parallel-item::after {content: \"\";width: 100%;border-bottom: 1px solid gray;flex-grow: 1;}#sk-container-id-2 div.sk-label:hover label.sk-toggleable__label {background-color: #d4ebff;}#sk-container-id-2 div.sk-serial::before {content: \"\";position: absolute;border-left: 1px solid gray;box-sizing: border-box;top: 0;bottom: 0;left: 50%;z-index: 0;}#sk-container-id-2 div.sk-serial {display: flex;flex-direction: column;align-items: center;background-color: white;padding-right: 0.2em;padding-left: 0.2em;position: relative;}#sk-container-id-2 div.sk-item {position: relative;z-index: 1;}#sk-container-id-2 div.sk-parallel {display: flex;align-items: stretch;justify-content: center;background-color: white;position: relative;}#sk-container-id-2 div.sk-item::before, #sk-container-id-2 div.sk-parallel-item::before {content: \"\";position: absolute;border-left: 1px solid gray;box-sizing: border-box;top: 0;bottom: 0;left: 50%;z-index: -1;}#sk-container-id-2 div.sk-parallel-item {display: flex;flex-direction: column;z-index: 1;position: relative;background-color: white;}#sk-container-id-2 div.sk-parallel-item:first-child::after {align-self: flex-end;width: 50%;}#sk-container-id-2 div.sk-parallel-item:last-child::after {align-self: flex-start;width: 50%;}#sk-container-id-2 div.sk-parallel-item:only-child::after {width: 0;}#sk-container-id-2 div.sk-dashed-wrapped {border: 1px dashed gray;margin: 0 0.4em 0.5em 0.4em;box-sizing: border-box;padding-bottom: 0.4em;background-color: white;}#sk-container-id-2 div.sk-label label {font-family: monospace;font-weight: bold;display: inline-block;line-height: 1.2em;}#sk-container-id-2 div.sk-label-container {text-align: center;}#sk-container-id-2 div.sk-container {/* jupyter's `normalize.less` sets `[hidden] { display: none; }` but bootstrap.min.css set `[hidden] { display: none !important; }` so we also need the `!important` here to be able to override the default hidden behavior on the sphinx rendered scikit-learn.org. See: https://github.com/scikit-learn/scikit-learn/issues/21755 */display: inline-block !important;position: relative;}#sk-container-id-2 div.sk-text-repr-fallback {display: none;}</style><div id=\"sk-container-id-2\" class=\"sk-top-container\"><div class=\"sk-text-repr-fallback\"><pre>LogisticRegression(max_iter=1000)</pre><b>In a Jupyter environment, please rerun this cell to show the HTML representation or trust the notebook. <br />On GitHub, the HTML representation is unable to render, please try loading this page with nbviewer.org.</b></div><div class=\"sk-container\" hidden><div class=\"sk-item\"><div class=\"sk-estimator sk-toggleable\"><input class=\"sk-toggleable__control sk-hidden--visually\" id=\"sk-estimator-id-2\" type=\"checkbox\" checked><label for=\"sk-estimator-id-2\" class=\"sk-toggleable__label sk-toggleable__label-arrow\">LogisticRegression</label><div class=\"sk-toggleable__content\"><pre>LogisticRegression(max_iter=1000)</pre></div></div></div></div></div>"
      ],
      "text/plain": [
       "LogisticRegression(max_iter=1000)"
      ]
     },
     "execution_count": 26,
     "metadata": {},
     "output_type": "execute_result"
    }
   ],
   "source": [
    "logmodel = LogisticRegression(max_iter=1000)\n",
    "logmodel.fit(x_train, y_train)"
   ]
  },
  {
   "cell_type": "code",
   "execution_count": 27,
   "metadata": {},
   "outputs": [],
   "source": [
    "prediction = logmodel.predict(x_test)"
   ]
  },
  {
   "cell_type": "markdown",
   "id": "1ac4f1d8",
   "metadata": {},
   "source": [
    "Model Evalution"
   ]
  },
  {
   "cell_type": "code",
   "execution_count": 28,
   "id": "159ece97",
   "metadata": {},
   "outputs": [
    {
     "data": {
      "text/plain": [
       "0.6324453930077699"
      ]
     },
     "execution_count": 28,
     "metadata": {},
     "output_type": "execute_result"
    }
   ],
   "source": [
    "metrics.f1_score(y_test, prediction, average=\"weighted\", labels=np.unique(prediction))"
   ]
  },
  {
   "cell_type": "code",
   "execution_count": 29,
   "metadata": {},
   "outputs": [
    {
     "name": "stdout",
     "output_type": "stream",
     "text": [
      "              precision    recall  f1-score   support\n",
      "\n",
      "           0       0.65      0.78      0.71    119877\n",
      "           1       0.63      0.47      0.54     95876\n",
      "\n",
      "    accuracy                           0.64    215753\n",
      "   macro avg       0.64      0.62      0.62    215753\n",
      "weighted avg       0.64      0.64      0.63    215753\n",
      "\n"
     ]
    }
   ],
   "source": [
    "print(classification_report(y_test, prediction))"
   ]
  },
  {
   "cell_type": "code",
   "execution_count": 30,
   "metadata": {},
   "outputs": [
    {
     "name": "stdout",
     "output_type": "stream",
     "text": [
      "[[93588 26289]\n",
      " [50919 44957]]\n"
     ]
    }
   ],
   "source": [
    "print(confusion_matrix(y_test, prediction))"
   ]
  },
  {
   "cell_type": "code",
   "execution_count": null,
   "metadata": {},
   "outputs": [],
   "source": []
  }
 ],
 "metadata": {
  "kernelspec": {
   "display_name": "Python 3 (ipykernel)",
   "language": "python",
   "name": "python3"
  },
  "language_info": {
   "codemirror_mode": {
    "name": "ipython",
    "version": 3
   },
   "file_extension": ".py",
   "mimetype": "text/x-python",
   "name": "python",
   "nbconvert_exporter": "python",
   "pygments_lexer": "ipython3",
   "version": "3.11.6"
  }
 },
 "nbformat": 4,
 "nbformat_minor": 5
}
